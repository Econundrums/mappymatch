{
 "cells": [
  {
   "cell_type": "code",
   "execution_count": 1,
   "metadata": {},
   "outputs": [
    {
     "name": "stderr",
     "output_type": "stream",
     "text": [
      "/Users/grahamwaters/opt/anaconda3/envs/yamm/lib/python3.8/site-packages/geopandas/_compat.py:111: UserWarning: The Shapely GEOS version (3.10.2-CAPI-1.16.0) is incompatible with the GEOS version PyGEOS was compiled with (3.10.1-CAPI-1.16.0). Conversions between both will be slow.\n",
      "  warnings.warn(\n"
     ]
    }
   ],
   "source": [
    "import logging\n",
    "\n",
    "import requests\n",
    "\n",
    "from yamm.constructs.road import Road\n",
    "from yamm.matchers.matcher_interface import *\n",
    "from yamm.utils.crs import LATLON_CRS\n",
    "from yamm.utils.url import multiurljoin\n",
    "\n",
    "log = logging.getLogger(__name__)\n",
    "\n",
    "DEFAULT_OSRM_ADDRESS = \"http://router.project-osrm.org\"\n",
    "\n",
    "\n",
    "def parse_osrm_json(j: dict, trace: Trace) -> List[Match]:\n",
    "    \"\"\"\n",
    "    parse the json response from the osrm match service\n",
    "\n",
    "    we're looking for the osm node ids which should be in the form:\n",
    "\n",
    "    { 'matchings':\n",
    "        [{ 'legs':\n",
    "            [{ 'annotations':\n",
    "                {'nodes': [node_id, node_id] }\n",
    "            }]\n",
    "        }]\n",
    "    }\n",
    "\n",
    "    :param j: the json object\n",
    "    :return:\n",
    "    \"\"\"\n",
    "    matchings = j.get(\"matchings\")\n",
    "    if not matchings:\n",
    "        raise ValueError(\"could not find any link matchings in response\")\n",
    "\n",
    "    legs = matchings[0].get(\"legs\")\n",
    "    if not legs:\n",
    "        raise ValueError(\"could not find any link legs in response\")\n",
    "\n",
    "    def _parse_leg(d: dict, i: int) -> Match:\n",
    "        annotation = d.get(\"annotation\")\n",
    "        if not annotation:\n",
    "            raise ValueError(\"leg has no annotation information\")\n",
    "        nodes = annotation.get(\"nodes\")\n",
    "        if not nodes:\n",
    "            raise ValueError(\"leg has no osm node information\")\n",
    "        link_id = f\"({nodes[0]},{nodes[1]})\"\n",
    "\n",
    "        #TODO: we need to get geometry and distance info from OSRM if available\n",
    "        road = Road(road_id=link_id, geom=None)\n",
    "        #TODO- try/except the geometry from the OSRM resp\n",
    "        \n",
    "        match = Match(road=road, coordinate=trace.coords[i], distance=None)\n",
    "        \n"
   ]
  }
 ],
 "metadata": {
  "interpreter": {
   "hash": "a9a427f73264428be450b1ee1d5d73072950adf1f04e22a121466d94a9dcac41"
  },
  "kernelspec": {
   "display_name": "Python 3.8.13 64-bit ('yamm': conda)",
   "name": "python3"
  },
  "language_info": {
   "codemirror_mode": {
    "name": "ipython",
    "version": 3
   },
   "file_extension": ".py",
   "mimetype": "text/x-python",
   "name": "python",
   "nbconvert_exporter": "python",
   "pygments_lexer": "ipython3",
   "version": "3.8.13"
  },
  "orig_nbformat": 4
 },
 "nbformat": 4,
 "nbformat_minor": 2
}
